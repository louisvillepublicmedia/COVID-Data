{
 "cells": [
  {
   "cell_type": "code",
   "execution_count": 8,
   "metadata": {},
   "outputs": [],
   "source": [
    "import pandas as pd\n",
    "pop_df = pd.read_csv('ohio-counties-pop-2019.csv')\n",
    "vaccine_data = pd.read_csv('/Users/suhailbhat/Desktop/COVID-Data/vaccine_data.csv')\n",
    "\n",
    "vaccine_data = vaccine_data.groupby('county').sum().reset_index()\n",
    "vaccine_data['county'] = vaccine_data.county.str.strip()\n",
    "\n",
    "merged_data = pd.merge(vaccine_data, pop_df, left_on='county', right_on='county_name')\n",
    "\n",
    "merged_data['pct_pop_firstdose'] = (merged_data[\n",
    "    'vaccines_started'] * 100 / merged_data['pop_2019']).round(2)\n",
    "merged_data['pct_pop_vaccinated'] = (merged_data[\n",
    "    'vaccines_completed'] * 100 / merged_data['pop_2019']).round(2)\n",
    "\n",
    "merged_data=merged_data[['county_fips',\n",
    "       'county_name', 'state', 'pop_2019', 'vaccines_started', \n",
    "        'vaccines_completed', 'pct_pop_firstdose',\n",
    "       'pct_pop_vaccinated']]\n",
    "\n",
    "merged_data.to_csv(\"oh-counties-vaccine-data.csv\", index=False)"
   ]
  },
  {
   "cell_type": "code",
   "execution_count": null,
   "metadata": {},
   "outputs": [],
   "source": []
  }
 ],
 "metadata": {
  "kernelspec": {
   "display_name": "Python 3",
   "language": "python",
   "name": "python3"
  },
  "language_info": {
   "codemirror_mode": {
    "name": "ipython",
    "version": 3
   },
   "file_extension": ".py",
   "mimetype": "text/x-python",
   "name": "python",
   "nbconvert_exporter": "python",
   "pygments_lexer": "ipython3",
   "version": "3.8.5"
  }
 },
 "nbformat": 4,
 "nbformat_minor": 4
}
