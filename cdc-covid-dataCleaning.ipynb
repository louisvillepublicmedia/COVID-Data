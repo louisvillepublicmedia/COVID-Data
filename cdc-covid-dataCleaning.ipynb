{
 "cells": [
  {
   "cell_type": "code",
   "execution_count": 2,
   "metadata": {},
   "outputs": [],
   "source": [
    "import pandas as pd\n",
    "import re\n",
    "import requests\n",
    "import numpy as np\n",
    "from bs4 import BeautifulSoup\n",
    "from glob import iglob\n",
    "\n",
    "\n",
    "# xls = pd.ExcelFile('Community_Profile.xlsx')\n",
    "\n",
    "# # # Now you can list all sheets in the file\n",
    "# xls.sheet_names\n",
    "# # # to read just one sheet to dataframe:\n",
    "# df = pd.read_excel(\"Community_Profile.xlsx\", sheet_name=\"Counties\")\n",
    "# df = pd.read_excel(open('Community_Profile.xlsx','rb'), sheet_name='Counties')\n",
    "df = pd.read_excel(open(next(iglob('Community_Profile_Report*.xlsx')),'rb'), sheet_name='Counties')\n",
    "\n",
    "# make first row as header\n",
    "df.columns = df.iloc[0]\n",
    "df = df[1:]\n",
    "\n",
    "# drop unallocated columns\n",
    "df=df.drop(df[df.County.str.contains(\"Unallocated\")].index)\n",
    "\n",
    "# add zero to 4-digit fips and convert to string for GeoJson join\n",
    "df[\"FIPS code\"] = df[\"FIPS code\"].astype(str).str.zfill(5)\n",
    "\n",
    "df=df.rename(columns={\"FIPS code\" : \"county_fips\"})\n",
    "\n",
    "#save the file to be uploaded to github\n",
    "df.to_csv(\"latest-cdc-covid-data-by-county.csv\", index=False)"
   ]
  },
  {
   "cell_type": "markdown",
   "metadata": {},
   "source": [
    "## promote the GEOID property in our GeoJSON file\n",
    "\n",
    "// before\n",
    "{ \n",
    "'type': 'Feature', \n",
    "'properties': { \n",
    "  'GEOID': '01005', // promote this property as an id\n",
    "  ...\n",
    "  },\n",
    "  ...\n",
    "}\n",
    "\n",
    "// after\n",
    "{ \n",
    "'type': 'Feature', \n",
    "'id': 1005, // id from GEOID\n",
    "'properties': {\n",
    "  'GEOID': '01005', \n",
    "  ...\n",
    "  },\n",
    "  ...\n",
    "}"
   ]
  },
  {
   "cell_type": "code",
   "execution_count": 7,
   "metadata": {},
   "outputs": [],
   "source": [
    "# import json\n",
    "\n",
    "# with open('us-counties-filter.geojson') as f:\n",
    "#   data = json.load(f)\n",
    "#   for item in data['features']:\n",
    "#     item['id'] = item['properties']['GEOID']\n",
    "\n",
    "#   with open('us-counties-filter-with-id.geojson', 'w') as f:\n",
    "#     json.dump(data, f)"
   ]
  },
  {
   "cell_type": "code",
   "execution_count": 1,
   "metadata": {},
   "outputs": [],
   "source": [
    "import pandas as pd\n",
    "import re\n",
    "import requests\n",
    "import numpy as np\n",
    "from bs4 import BeautifulSoup\n",
    "from glob import iglob"
   ]
  },
  {
   "cell_type": "code",
   "execution_count": 2,
   "metadata": {},
   "outputs": [],
   "source": [
    "df = pd.read_excel(open(next(iglob('Community_Profile_Report*.xlsx')),'rb'), sheet_name='States')"
   ]
  },
  {
   "cell_type": "code",
   "execution_count": 4,
   "metadata": {},
   "outputs": [],
   "source": [
    "# make first row as header\n",
    "df.columns = df.iloc[0]\n",
    "df = df[1:]"
   ]
  },
  {
   "cell_type": "code",
   "execution_count": 6,
   "metadata": {},
   "outputs": [],
   "source": [
    "df.to_csv(\"cdcCovidDataByState.csv\", index=False)"
   ]
  },
  {
   "cell_type": "code",
   "execution_count": null,
   "metadata": {},
   "outputs": [],
   "source": []
  }
 ],
 "metadata": {
  "kernelspec": {
   "display_name": "Python 3",
   "language": "python",
   "name": "python3"
  },
  "language_info": {
   "codemirror_mode": {
    "name": "ipython",
    "version": 3
   },
   "file_extension": ".py",
   "mimetype": "text/x-python",
   "name": "python",
   "nbconvert_exporter": "python",
   "pygments_lexer": "ipython3",
   "version": "3.8.5"
  }
 },
 "nbformat": 4,
 "nbformat_minor": 4
}
