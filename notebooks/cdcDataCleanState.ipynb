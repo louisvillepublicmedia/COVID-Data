{
 "cells": [
  {
   "cell_type": "code",
   "execution_count": 19,
   "metadata": {},
   "outputs": [],
   "source": [
    "import pandas as pd\n",
    "import re\n",
    "import requests\n",
    "import numpy as np\n",
    "from bs4 import BeautifulSoup\n",
    "from glob import iglob\n",
    "\n",
    "state_df = pd.read_excel(open(next(iglob('Community_Profile_Report*.xlsx')),'rb'), sheet_name='States')\n",
    "\n",
    "# make first row as header\n",
    "state_df.columns = state_df.iloc[0]\n",
    "state_df = state_df[1:]\n",
    "\n",
    "state_df = state_df.rename(columns={\"People with at least 1 dose as % of total population\": \"People initiating vaccination as % of total population\", \n",
    "                   \"People who are fully vaccinated as % of total population\": \"People with full course administered as % of total population\"})\n",
    "\n",
    "state_df = state_df[['State', 'State Abbreviation', 'Doses distributed', 'Doses distributed per 100k population',\n",
    "       'Doses administered', 'Doses administered per 100k population',\n",
    "       'People initiating vaccination as % of total population',\n",
    "       'People with full course administered as % of total population',\n",
    "         'Cumulative cases', 'Cumulative deaths',\n",
    "         'Viral (RT-PCR) lab test positivity rate - last 7 days (may be an underestimate due to delayed reporting)']]\n",
    "\n",
    "state_df.to_csv(\"cdcCovidDataByState.csv\", index=False)\n",
    "\n",
    "# ///county data\n",
    "\n",
    "df = pd.read_excel(open(next(iglob('Community_Profile_Report*.xlsx')),'rb'), sheet_name='Counties')\n",
    "\n",
    "# make first row as header\n",
    "df.columns = df.iloc[0]\n",
    "df = df[1:]\n",
    "\n",
    "# drop unallocated columns\n",
    "df=df.drop(df[df.County.str.contains(\"Unallocated\")].index)\n",
    "\n",
    "# add zero to 4-digit fips and convert to string for GeoJson join\n",
    "df[\"FIPS code\"] = df[\"FIPS code\"].astype(str).str.zfill(5)\n",
    "\n",
    "df=df.rename(columns={\"FIPS code\" : \"county_fips\"})\n",
    "\n",
    "df['Area of Concern Category'] = df['Area of Concern Category'].str.replace('SustainedHotspot', 'Sustained Hotspot')\n",
    "df['Area of Concern Category'] = df['Area of Concern Category'].str.replace('Hotspot', 'Hotspot')\n",
    "df['Area of Concern Category'] = df['Area of Concern Category'].str.replace('HighBurdenResolving', 'High Burden Resolving')\n",
    "df['Area of Concern Category'] = df['Area of Concern Category'].str.replace('ModerateBurdenResolving', 'Moderate Burden Resolving')\n",
    "df['Area of Concern Category'] = df['Area of Concern Category'].str.replace('EmergingHotspot', 'Emerging Hotspot')\n",
    "df['Area of Concern Category'] = df['Area of Concern Category'].str.replace('ModerateBurden', 'Moderate Burden')\n",
    "df['Area of Concern Category'] = df['Area of Concern Category'].str.replace('LowBurden', 'Low Burden')\n",
    "\n",
    "# df.head()\n",
    "\n",
    "df= df[['County', 'county_fips',\"State Abbreviation\",'Cases per 100k - last 7 days', 'Cases - last 7 days', 'Deaths - last 7 days',\n",
    " 'Deaths per 100k - last 7 days', 'Cases - % change', 'Deaths - % change', 'Cumulative cases','Cumulative deaths',\n",
    " 'Number of days of downward case trajectory', 'Area of Concern Category', 'Rapid Riser Category', \n",
    "'Viral (RT-PCR) lab test positivity rate - last 7 days (may be an underestimate due to delayed reporting)',\n",
    " 'Confirmed COVID-19 admissions - last 7 days', 'RT-PCR tests per 100k - last 7 days (may be an underestimate due to delayed reporting)',\n",
    " 'Area of Concern Category', '% inpatient beds occupied', '% staffed adult ICU beds occupied', \n",
    " '% inpatient beds occupied by COVID-19 patient', '% staffed adult ICU beds occupied by COVID-19 patient']]\n",
    "#save the file to be uploaded to github\n",
    "df.to_csv(\"latest-cdc-covid-data-by-county.csv\", index=False)"
   ]
  },
  {
   "cell_type": "code",
   "execution_count": 18,
   "metadata": {},
   "outputs": [],
   "source": []
  },
  {
   "cell_type": "code",
   "execution_count": null,
   "metadata": {},
   "outputs": [],
   "source": []
  }
 ],
 "metadata": {
  "kernelspec": {
   "display_name": "Python 3",
   "language": "python",
   "name": "python3"
  },
  "language_info": {
   "codemirror_mode": {
    "name": "ipython",
    "version": 3
   },
   "file_extension": ".py",
   "mimetype": "text/x-python",
   "name": "python",
   "nbconvert_exporter": "python",
   "pygments_lexer": "ipython3",
   "version": "3.8.5"
  }
 },
 "nbformat": 4,
 "nbformat_minor": 4
}
