{
 "cells": [
  {
   "cell_type": "code",
   "execution_count": 1,
   "metadata": {},
   "outputs": [],
   "source": [
    "import pandas as pd\n",
    "import re\n",
    "import requests\n",
    "import numpy as np\n",
    "from bs4 import BeautifulSoup\n",
    "from glob import iglob\n",
    "\n",
    "df = pd.read_excel(open(next(iglob('Community_Profile_Report*.xlsx')),'rb'), sheet_name='States')\n",
    "\n",
    "# make first row as header\n",
    "df.columns = df.iloc[0]\n",
    "df = df[1:]\n",
    "\n",
    "df.to_csv(\"cdcCovidDataByState.csv\", index=False)\n",
    "\n",
    "# xls = pd.ExcelFile('Community_Profile.xlsx')\n",
    "\n",
    "# # # Now you can list all sheets in the file\n",
    "# xls.sheet_names\n",
    "# # # to read just one sheet to dataframe:\n",
    "# df = pd.read_excel(\"Community_Profile.xlsx\", sheet_name=\"Counties\")\n",
    "# df = pd.read_excel(open('Community_Profile.xlsx','rb'), sheet_name='Counties')\n",
    "df = pd.read_excel(open(next(iglob('Community_Profile_Report*.xlsx')),'rb'), sheet_name='Counties')\n",
    "\n",
    "# make first row as header\n",
    "df.columns = df.iloc[0]\n",
    "df = df[1:]\n",
    "\n",
    "# drop unallocated columns\n",
    "df=df.drop(df[df.County.str.contains(\"Unallocated\")].index)\n",
    "\n",
    "# add zero to 4-digit fips and convert to string for GeoJson join\n",
    "df[\"FIPS code\"] = df[\"FIPS code\"].astype(str).str.zfill(5)\n",
    "\n",
    "df=df.rename(columns={\"FIPS code\" : \"county_fips\"})\n",
    "\n",
    "df['Area of Concern Category'] = df['Area of Concern Category'].str.replace('SustainedHotspot', 'Sustained Hotspot')\n",
    "df['Area of Concern Category'] = df['Area of Concern Category'].str.replace('Hotspot', 'Hotspot')\n",
    "df['Area of Concern Category'] = df['Area of Concern Category'].str.replace('HighBurdenResolving', 'High Burden Resolving')\n",
    "df['Area of Concern Category'] = df['Area of Concern Category'].str.replace('ModerateBurdenResolving', 'Moderate Burden Resolving')\n",
    "df['Area of Concern Category'] = df['Area of Concern Category'].str.replace('EmergingHotspot', 'Emerging Hotspot')\n",
    "df['Area of Concern Category'] = df['Area of Concern Category'].str.replace('ModerateBurden', 'Moderate Burden')\n",
    "df['Area of Concern Category'] = df['Area of Concern Category'].str.replace('LowBurden', 'Low Burden')\n",
    "\n",
    "#save the file to be uploaded to github\n",
    "df.to_csv(\"latest-cdc-covid-data-by-county.csv\", index=False)"
   ]
  },
  {
   "cell_type": "code",
   "execution_count": null,
   "metadata": {},
   "outputs": [],
   "source": []
  }
 ],
 "metadata": {
  "kernelspec": {
   "display_name": "Python 3",
   "language": "python",
   "name": "python3"
  },
  "language_info": {
   "codemirror_mode": {
    "name": "ipython",
    "version": 3
   },
   "file_extension": ".py",
   "mimetype": "text/x-python",
   "name": "python",
   "nbconvert_exporter": "python",
   "pygments_lexer": "ipython3",
   "version": "3.8.5"
  }
 },
 "nbformat": 4,
 "nbformat_minor": 4
}
